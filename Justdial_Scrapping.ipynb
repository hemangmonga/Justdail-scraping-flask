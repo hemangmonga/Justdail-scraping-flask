{
 "cells": [
  {
   "cell_type": "code",
   "execution_count": 1,
   "metadata": {},
   "outputs": [
    {
     "name": "stderr",
     "output_type": "stream",
     "text": [
      "[WDM] - Current google-chrome version is 86.0.4240\n",
      "[WDM] - Get LATEST driver version for 86.0.4240\n",
      "[WDM] - Driver [C:\\Users\\GAME\\.wdm\\drivers\\chromedriver\\win32\\86.0.4240.22\\chromedriver.exe] found in cache\n"
     ]
    },
    {
     "name": "stdout",
     "output_type": "stream",
     "text": [
      " \n"
     ]
    }
   ],
   "source": [
    "from selenium import webdriver\n",
    "from webdriver_manager.chrome import ChromeDriverManager\n",
    "\n",
    "driver = webdriver.Chrome(ChromeDriverManager().install())\n",
    "import pandas as pd\n",
    "import time\n",
    "import os"
   ]
  },
  {
   "cell_type": "code",
   "execution_count": 13,
   "metadata": {},
   "outputs": [
    {
     "name": "stderr",
     "output_type": "stream",
     "text": [
      "[WDM] - Current google-chrome version is 86.0.4240\n",
      "[WDM] - Get LATEST driver version for 86.0.4240\n",
      "[WDM] - Driver [C:\\Users\\GAME\\.wdm\\drivers\\chromedriver\\win32\\86.0.4240.22\\chromedriver.exe] found in cache\n"
     ]
    },
    {
     "name": "stdout",
     "output_type": "stream",
     "text": [
      " \n"
     ]
    },
    {
     "ename": "NoSuchElementException",
     "evalue": "Message: no such element: Unable to locate element: {\"method\":\"css selector\",\"selector\":\"[id=\"srchbox\"]\"}\n  (Session info: chrome=86.0.4240.198)\n",
     "output_type": "error",
     "traceback": [
      "\u001b[1;31m---------------------------------------------------------------------------\u001b[0m",
      "\u001b[1;31mNoSuchElementException\u001b[0m                    Traceback (most recent call last)",
      "\u001b[1;32m<ipython-input-13-fabdf6c858ea>\u001b[0m in \u001b[0;36m<module>\u001b[1;34m\u001b[0m\n\u001b[0;32m      5\u001b[0m \u001b[0mdriver\u001b[0m\u001b[1;33m.\u001b[0m\u001b[0mget\u001b[0m\u001b[1;33m(\u001b[0m\u001b[1;34m'https://www.justdial.com/'\u001b[0m\u001b[1;33m)\u001b[0m\u001b[1;33m;\u001b[0m\u001b[1;33m\u001b[0m\u001b[1;33m\u001b[0m\u001b[0m\n\u001b[0;32m      6\u001b[0m \u001b[0mtime\u001b[0m\u001b[1;33m.\u001b[0m\u001b[0msleep\u001b[0m\u001b[1;33m(\u001b[0m\u001b[1;36m5\u001b[0m\u001b[1;33m)\u001b[0m \u001b[1;31m# Let the user actually see something!\u001b[0m\u001b[1;33m\u001b[0m\u001b[1;33m\u001b[0m\u001b[0m\n\u001b[1;32m----> 7\u001b[1;33m \u001b[0msearch_box\u001b[0m \u001b[1;33m=\u001b[0m \u001b[0mdriver\u001b[0m\u001b[1;33m.\u001b[0m\u001b[0mfind_element_by_id\u001b[0m\u001b[1;33m(\u001b[0m\u001b[1;34m'srchbox'\u001b[0m\u001b[1;33m)\u001b[0m\u001b[1;33m\u001b[0m\u001b[1;33m\u001b[0m\u001b[0m\n\u001b[0m\u001b[0;32m      8\u001b[0m \u001b[0msearch_box\u001b[0m\u001b[1;33m.\u001b[0m\u001b[0msend_keys\u001b[0m\u001b[1;33m(\u001b[0m\u001b[1;34m'ChromeDriver'\u001b[0m\u001b[1;33m)\u001b[0m\u001b[1;33m\u001b[0m\u001b[1;33m\u001b[0m\u001b[0m\n\u001b[0;32m      9\u001b[0m \u001b[0msearch_box\u001b[0m\u001b[1;33m.\u001b[0m\u001b[0msubmit\u001b[0m\u001b[1;33m(\u001b[0m\u001b[1;33m)\u001b[0m\u001b[1;33m\u001b[0m\u001b[1;33m\u001b[0m\u001b[0m\n",
      "\u001b[1;32m~\\anaconda3\\lib\\site-packages\\selenium\\webdriver\\remote\\webdriver.py\u001b[0m in \u001b[0;36mfind_element_by_id\u001b[1;34m(self, id_)\u001b[0m\n\u001b[0;32m    358\u001b[0m             \u001b[0melement\u001b[0m \u001b[1;33m=\u001b[0m \u001b[0mdriver\u001b[0m\u001b[1;33m.\u001b[0m\u001b[0mfind_element_by_id\u001b[0m\u001b[1;33m(\u001b[0m\u001b[1;34m'foo'\u001b[0m\u001b[1;33m)\u001b[0m\u001b[1;33m\u001b[0m\u001b[1;33m\u001b[0m\u001b[0m\n\u001b[0;32m    359\u001b[0m         \"\"\"\n\u001b[1;32m--> 360\u001b[1;33m         \u001b[1;32mreturn\u001b[0m \u001b[0mself\u001b[0m\u001b[1;33m.\u001b[0m\u001b[0mfind_element\u001b[0m\u001b[1;33m(\u001b[0m\u001b[0mby\u001b[0m\u001b[1;33m=\u001b[0m\u001b[0mBy\u001b[0m\u001b[1;33m.\u001b[0m\u001b[0mID\u001b[0m\u001b[1;33m,\u001b[0m \u001b[0mvalue\u001b[0m\u001b[1;33m=\u001b[0m\u001b[0mid_\u001b[0m\u001b[1;33m)\u001b[0m\u001b[1;33m\u001b[0m\u001b[1;33m\u001b[0m\u001b[0m\n\u001b[0m\u001b[0;32m    361\u001b[0m \u001b[1;33m\u001b[0m\u001b[0m\n\u001b[0;32m    362\u001b[0m     \u001b[1;32mdef\u001b[0m \u001b[0mfind_elements_by_id\u001b[0m\u001b[1;33m(\u001b[0m\u001b[0mself\u001b[0m\u001b[1;33m,\u001b[0m \u001b[0mid_\u001b[0m\u001b[1;33m)\u001b[0m\u001b[1;33m:\u001b[0m\u001b[1;33m\u001b[0m\u001b[1;33m\u001b[0m\u001b[0m\n",
      "\u001b[1;32m~\\anaconda3\\lib\\site-packages\\selenium\\webdriver\\remote\\webdriver.py\u001b[0m in \u001b[0;36mfind_element\u001b[1;34m(self, by, value)\u001b[0m\n\u001b[0;32m    974\u001b[0m                 \u001b[0mby\u001b[0m \u001b[1;33m=\u001b[0m \u001b[0mBy\u001b[0m\u001b[1;33m.\u001b[0m\u001b[0mCSS_SELECTOR\u001b[0m\u001b[1;33m\u001b[0m\u001b[1;33m\u001b[0m\u001b[0m\n\u001b[0;32m    975\u001b[0m                 \u001b[0mvalue\u001b[0m \u001b[1;33m=\u001b[0m \u001b[1;34m'[name=\"%s\"]'\u001b[0m \u001b[1;33m%\u001b[0m \u001b[0mvalue\u001b[0m\u001b[1;33m\u001b[0m\u001b[1;33m\u001b[0m\u001b[0m\n\u001b[1;32m--> 976\u001b[1;33m         return self.execute(Command.FIND_ELEMENT, {\n\u001b[0m\u001b[0;32m    977\u001b[0m             \u001b[1;34m'using'\u001b[0m\u001b[1;33m:\u001b[0m \u001b[0mby\u001b[0m\u001b[1;33m,\u001b[0m\u001b[1;33m\u001b[0m\u001b[1;33m\u001b[0m\u001b[0m\n\u001b[0;32m    978\u001b[0m             'value': value})['value']\n",
      "\u001b[1;32m~\\anaconda3\\lib\\site-packages\\selenium\\webdriver\\remote\\webdriver.py\u001b[0m in \u001b[0;36mexecute\u001b[1;34m(self, driver_command, params)\u001b[0m\n\u001b[0;32m    319\u001b[0m         \u001b[0mresponse\u001b[0m \u001b[1;33m=\u001b[0m \u001b[0mself\u001b[0m\u001b[1;33m.\u001b[0m\u001b[0mcommand_executor\u001b[0m\u001b[1;33m.\u001b[0m\u001b[0mexecute\u001b[0m\u001b[1;33m(\u001b[0m\u001b[0mdriver_command\u001b[0m\u001b[1;33m,\u001b[0m \u001b[0mparams\u001b[0m\u001b[1;33m)\u001b[0m\u001b[1;33m\u001b[0m\u001b[1;33m\u001b[0m\u001b[0m\n\u001b[0;32m    320\u001b[0m         \u001b[1;32mif\u001b[0m \u001b[0mresponse\u001b[0m\u001b[1;33m:\u001b[0m\u001b[1;33m\u001b[0m\u001b[1;33m\u001b[0m\u001b[0m\n\u001b[1;32m--> 321\u001b[1;33m             \u001b[0mself\u001b[0m\u001b[1;33m.\u001b[0m\u001b[0merror_handler\u001b[0m\u001b[1;33m.\u001b[0m\u001b[0mcheck_response\u001b[0m\u001b[1;33m(\u001b[0m\u001b[0mresponse\u001b[0m\u001b[1;33m)\u001b[0m\u001b[1;33m\u001b[0m\u001b[1;33m\u001b[0m\u001b[0m\n\u001b[0m\u001b[0;32m    322\u001b[0m             response['value'] = self._unwrap_value(\n\u001b[0;32m    323\u001b[0m                 response.get('value', None))\n",
      "\u001b[1;32m~\\anaconda3\\lib\\site-packages\\selenium\\webdriver\\remote\\errorhandler.py\u001b[0m in \u001b[0;36mcheck_response\u001b[1;34m(self, response)\u001b[0m\n\u001b[0;32m    240\u001b[0m                 \u001b[0malert_text\u001b[0m \u001b[1;33m=\u001b[0m \u001b[0mvalue\u001b[0m\u001b[1;33m[\u001b[0m\u001b[1;34m'alert'\u001b[0m\u001b[1;33m]\u001b[0m\u001b[1;33m.\u001b[0m\u001b[0mget\u001b[0m\u001b[1;33m(\u001b[0m\u001b[1;34m'text'\u001b[0m\u001b[1;33m)\u001b[0m\u001b[1;33m\u001b[0m\u001b[1;33m\u001b[0m\u001b[0m\n\u001b[0;32m    241\u001b[0m             \u001b[1;32mraise\u001b[0m \u001b[0mexception_class\u001b[0m\u001b[1;33m(\u001b[0m\u001b[0mmessage\u001b[0m\u001b[1;33m,\u001b[0m \u001b[0mscreen\u001b[0m\u001b[1;33m,\u001b[0m \u001b[0mstacktrace\u001b[0m\u001b[1;33m,\u001b[0m \u001b[0malert_text\u001b[0m\u001b[1;33m)\u001b[0m\u001b[1;33m\u001b[0m\u001b[1;33m\u001b[0m\u001b[0m\n\u001b[1;32m--> 242\u001b[1;33m         \u001b[1;32mraise\u001b[0m \u001b[0mexception_class\u001b[0m\u001b[1;33m(\u001b[0m\u001b[0mmessage\u001b[0m\u001b[1;33m,\u001b[0m \u001b[0mscreen\u001b[0m\u001b[1;33m,\u001b[0m \u001b[0mstacktrace\u001b[0m\u001b[1;33m)\u001b[0m\u001b[1;33m\u001b[0m\u001b[1;33m\u001b[0m\u001b[0m\n\u001b[0m\u001b[0;32m    243\u001b[0m \u001b[1;33m\u001b[0m\u001b[0m\n\u001b[0;32m    244\u001b[0m     \u001b[1;32mdef\u001b[0m \u001b[0m_value_or_default\u001b[0m\u001b[1;33m(\u001b[0m\u001b[0mself\u001b[0m\u001b[1;33m,\u001b[0m \u001b[0mobj\u001b[0m\u001b[1;33m,\u001b[0m \u001b[0mkey\u001b[0m\u001b[1;33m,\u001b[0m \u001b[0mdefault\u001b[0m\u001b[1;33m)\u001b[0m\u001b[1;33m:\u001b[0m\u001b[1;33m\u001b[0m\u001b[1;33m\u001b[0m\u001b[0m\n",
      "\u001b[1;31mNoSuchElementException\u001b[0m: Message: no such element: Unable to locate element: {\"method\":\"css selector\",\"selector\":\"[id=\"srchbox\"]\"}\n  (Session info: chrome=86.0.4240.198)\n"
     ]
    }
   ],
   "source": [
    "import time\n",
    "from selenium import webdriver\n",
    "\n",
    "driver = webdriver.Chrome(ChromeDriverManager().install())  # Optional argument, if not specified will search path.\n",
    "driver.get('https://www.justdial.com/');\n",
    "time.sleep(5) # Let the user actually see something!\n",
    "search_box = driver.find_element_by_id('srchbox')\n",
    "search_box.send_keys('ChromeDriver')\n",
    "search_box.submit()\n",
    "time.sleep(5) # Let the user actually see something!\n",
    "driver.quit()"
   ]
  },
  {
   "cell_type": "code",
   "execution_count": 2,
   "metadata": {},
   "outputs": [
    {
     "name": "stdout",
     "output_type": "stream",
     "text": [
      "Collecting selenium\n",
      "  Using cached selenium-3.141.0-py2.py3-none-any.whl (904 kB)\n",
      "Requirement already satisfied: urllib3 in c:\\users\\game\\anaconda3\\lib\\site-packages (from selenium) (1.25.11)\n",
      "Installing collected packages: selenium\n",
      "Successfully installed selenium-3.141.0\n",
      "Collecting webdriver_manager\n",
      "  Using cached webdriver_manager-3.2.2-py2.py3-none-any.whl (16 kB)\n",
      "Collecting crayons\n",
      "  Using cached crayons-0.4.0-py2.py3-none-any.whl (4.6 kB)\n",
      "Requirement already satisfied: requests in c:\\users\\game\\anaconda3\\lib\\site-packages (from webdriver_manager) (2.24.0)\n",
      "Collecting configparser\n",
      "  Using cached configparser-5.0.1-py3-none-any.whl (22 kB)\n",
      "Requirement already satisfied: colorama in c:\\users\\game\\anaconda3\\lib\\site-packages (from crayons->webdriver_manager) (0.4.4)\n",
      "Requirement already satisfied: urllib3!=1.25.0,!=1.25.1,<1.26,>=1.21.1 in c:\\users\\game\\anaconda3\\lib\\site-packages (from requests->webdriver_manager) (1.25.11)\n",
      "Requirement already satisfied: certifi>=2017.4.17 in c:\\users\\game\\anaconda3\\lib\\site-packages (from requests->webdriver_manager) (2020.6.20)\n",
      "Requirement already satisfied: chardet<4,>=3.0.2 in c:\\users\\game\\anaconda3\\lib\\site-packages (from requests->webdriver_manager) (3.0.4)\n",
      "Requirement already satisfied: idna<3,>=2.5 in c:\\users\\game\\anaconda3\\lib\\site-packages (from requests->webdriver_manager) (2.10)\n",
      "Installing collected packages: crayons, configparser, webdriver-manager\n",
      "Successfully installed configparser-5.0.1 crayons-0.4.0 webdriver-manager-3.2.2\n"
     ]
    }
   ],
   "source": [
    "# !pip install selenium\n",
    "# !pip install webdriver_manager"
   ]
  },
  {
   "cell_type": "code",
   "execution_count": null,
   "metadata": {},
   "outputs": [],
   "source": []
  },
  {
   "cell_type": "code",
   "execution_count": 14,
   "metadata": {},
   "outputs": [],
   "source": [
    "def need_to_run():\n",
    "    caps = webdriver.DesiredCapabilities.CHROME.copy()\n",
    "    caps['acceptInsecureCerts'] = True\n",
    "    driver = webdriver.Chrome(ChromeDriverManager().install(),desired_capabilities=caps)\n",
    "    return driver"
   ]
  },
  {
   "cell_type": "code",
   "execution_count": 8,
   "metadata": {},
   "outputs": [
    {
     "name": "stderr",
     "output_type": "stream",
     "text": [
      "[WDM] - Current google-chrome version is 86.0.4240\n",
      "[WDM] - Get LATEST driver version for 86.0.4240\n",
      "[WDM] - Driver [C:\\Users\\GAME\\.wdm\\drivers\\chromedriver\\win32\\86.0.4240.22\\chromedriver.exe] found in cache\n"
     ]
    },
    {
     "name": "stdout",
     "output_type": "stream",
     "text": [
      " \n"
     ]
    }
   ],
   "source": [
    "# driver.get(\"https://www.justdial.com/Mumbai/Dietitians/nct-10161884\")\n",
    "driver = need_to_run()\n",
    "driver.get(\"https://www.justdial.com/Mumbai/Dietitians/nct-10161884/page-2\")\n",
    "time.sleep(5) # Let the user actually see something!\n",
    "driver.quit()"
   ]
  },
  {
   "cell_type": "code",
   "execution_count": 3,
   "metadata": {},
   "outputs": [],
   "source": [
    "def strings_to_num(argument): \n",
    "    \n",
    "    switcher = { \n",
    "        'dc': '+',\n",
    "        'fe': '(',\n",
    "        'hg': ')',\n",
    "        'ba': '-',\n",
    "        'acb': '0', \n",
    "        'yz': '1', \n",
    "        'wx': '2',\n",
    "        'vu': '3',\n",
    "        'ts': '4',\n",
    "        'rq': '5',\n",
    "        'po': '6',\n",
    "        'nm': '7',\n",
    "        'lk': '8',\n",
    "        'ji': '9'\n",
    "    } \n",
    "    \n",
    "    return switcher.get(argument, \"nothing\")"
   ]
  },
  {
   "cell_type": "code",
   "execution_count": 16,
   "metadata": {},
   "outputs": [
    {
     "name": "stderr",
     "output_type": "stream",
     "text": [
      "[WDM] - Current google-chrome version is 86.0.4240\n",
      "[WDM] - Get LATEST driver version for 86.0.4240\n",
      "[WDM] - Driver [C:\\Users\\GAME\\.wdm\\drivers\\chromedriver\\win32\\86.0.4240.22\\chromedriver.exe] found in cache\n"
     ]
    },
    {
     "name": "stdout",
     "output_type": "stream",
     "text": [
      " \n"
     ]
    },
    {
     "name": "stderr",
     "output_type": "stream",
     "text": [
      "[WDM] - Current google-chrome version is 86.0.4240\n",
      "[WDM] - Get LATEST driver version for 86.0.4240\n",
      "[WDM] - Driver [C:\\Users\\GAME\\.wdm\\drivers\\chromedriver\\win32\\86.0.4240.22\\chromedriver.exe] found in cache\n"
     ]
    },
    {
     "name": "stdout",
     "output_type": "stream",
     "text": [
      " \n",
      "<selenium.webdriver.remote.webelement.WebElement (session=\"86857379f046be2295b1e41c9f12e5e6\", element=\"acd2ec22-1929-4573-b86e-6d69f687079e\")>\n"
     ]
    },
    {
     "ename": "AttributeError",
     "evalue": "'list' object has no attribute 'text'",
     "output_type": "error",
     "traceback": [
      "\u001b[1;31m---------------------------------------------------------------------------\u001b[0m",
      "\u001b[1;31mAttributeError\u001b[0m                            Traceback (most recent call last)",
      "\u001b[1;32m<ipython-input-16-b04a6c75947d>\u001b[0m in \u001b[0;36m<module>\u001b[1;34m\u001b[0m\n\u001b[0;32m     19\u001b[0m             \u001b[0mprint\u001b[0m\u001b[1;33m(\u001b[0m\u001b[0mstoreDetails\u001b[0m\u001b[1;33m[\u001b[0m\u001b[0mi\u001b[0m\u001b[1;33m]\u001b[0m\u001b[1;33m)\u001b[0m\u001b[1;33m\u001b[0m\u001b[1;33m\u001b[0m\u001b[0m\n\u001b[0;32m     20\u001b[0m             \u001b[0mname\u001b[0m \u001b[1;33m=\u001b[0m \u001b[0mstoreDetails\u001b[0m\u001b[1;33m[\u001b[0m\u001b[0mi\u001b[0m\u001b[1;33m]\u001b[0m\u001b[1;33m.\u001b[0m\u001b[0mfind_element_by_class_name\u001b[0m\u001b[1;33m(\u001b[0m\u001b[1;34m'lng_cont_name'\u001b[0m\u001b[1;33m)\u001b[0m\u001b[1;33m.\u001b[0m\u001b[0mtext\u001b[0m\u001b[1;33m\u001b[0m\u001b[1;33m\u001b[0m\u001b[0m\n\u001b[1;32m---> 21\u001b[1;33m             \u001b[0maddress_sub\u001b[0m \u001b[1;33m=\u001b[0m \u001b[0mstoreDetails\u001b[0m\u001b[1;33m[\u001b[0m\u001b[0mi\u001b[0m\u001b[1;33m]\u001b[0m\u001b[1;33m.\u001b[0m\u001b[0mfind_elements_by_class_name\u001b[0m\u001b[1;33m(\u001b[0m\u001b[1;34m'mrehover dn'\u001b[0m\u001b[1;33m)\u001b[0m\u001b[1;33m.\u001b[0m\u001b[0mtext\u001b[0m\u001b[1;33m\u001b[0m\u001b[1;33m\u001b[0m\u001b[0m\n\u001b[0m\u001b[0;32m     22\u001b[0m             \u001b[0maddress\u001b[0m \u001b[1;33m=\u001b[0m \u001b[0maddress_sub\u001b[0m\u001b[1;33m.\u001b[0m\u001b[0mfind_elements_by_class_name\u001b[0m\u001b[1;33m(\u001b[0m\u001b[1;34m'cont_fl_addr'\u001b[0m\u001b[1;33m)\u001b[0m\u001b[1;33m.\u001b[0m\u001b[0mtext\u001b[0m\u001b[1;33m\u001b[0m\u001b[1;33m\u001b[0m\u001b[0m\n\u001b[0;32m     23\u001b[0m             \u001b[0mcontactList\u001b[0m \u001b[1;33m=\u001b[0m \u001b[0mstoreDetails\u001b[0m\u001b[1;33m[\u001b[0m\u001b[0mi\u001b[0m\u001b[1;33m]\u001b[0m\u001b[1;33m.\u001b[0m\u001b[0mfind_elements_by_class_name\u001b[0m\u001b[1;33m(\u001b[0m\u001b[1;34m'mobilesv'\u001b[0m\u001b[1;33m)\u001b[0m\u001b[1;33m\u001b[0m\u001b[1;33m\u001b[0m\u001b[0m\n",
      "\u001b[1;31mAttributeError\u001b[0m: 'list' object has no attribute 'text'"
     ]
    }
   ],
   "source": [
    "caps = webdriver.DesiredCapabilities.CHROME.copy()\n",
    "caps['acceptInsecureCerts'] = True\n",
    "driver = webdriver.Chrome(ChromeDriverManager().install(),desired_capabilities=caps)\n",
    "\n",
    "nameList = []\n",
    "addressList = []\n",
    "numbersList = []\n",
    "for k in range(48,52):\n",
    "#     try:\n",
    "        driver.quit()\n",
    "        driver = need_to_run()\n",
    "        path = 'https://www.justdial.com/Mumbai/Dietitians/nct-10161884/page-'\n",
    "        driver.get(path + str(k))\n",
    "\n",
    "        storeDetails = driver.find_elements_by_class_name('store-details')\n",
    "\n",
    "        \n",
    "        for i in range(len(storeDetails)):\n",
    "            print(storeDetails[i])\n",
    "            name = storeDetails[i].find_element_by_class_name('lng_cont_name').text\n",
    "            address_sub = storeDetails[i].find_elements_by_class_name('mrehover dn').text\n",
    "            address = address_sub.find_elements_by_class_name('cont_fl_addr').text\n",
    "            contactList = storeDetails[i].find_elements_by_class_name('mobilesv')\n",
    "\n",
    "            myList = []\n",
    "\n",
    "            for j in range(len(contactList)):\n",
    "\n",
    "                myString = contactList[j].get_attribute('class').split(\"-\")[1]\n",
    "\n",
    "                myList.append(strings_to_num(myString))\n",
    "\n",
    "            nameList.append(name)\n",
    "            addressList.append(address)\n",
    "            numbersList.append(\"\".join(myList))\n",
    "\n",
    "#     except:\n",
    "#         driver = need_to_run()\n",
    "#         print(k)\n",
    "\n",
    "driver.quit()\n",
    "\n",
    "        # intialise data of lists.\n",
    "data = {'Company Name':nameList,\n",
    "        'Address': addressList,\n",
    "        'Phone':numbersList}\n",
    "\n",
    "        # Create DataFrame\n",
    "df = pd.DataFrame(data)\n",
    "   "
   ]
  },
  {
   "cell_type": "code",
   "execution_count": 19,
   "metadata": {},
   "outputs": [
    {
     "data": {
      "text/plain": [
       "<selenium.webdriver.remote.webelement.WebElement (session=\"86857379f046be2295b1e41c9f12e5e6\", element=\"acd2ec22-1929-4573-b86e-6d69f687079e\")>"
      ]
     },
     "execution_count": 19,
     "metadata": {},
     "output_type": "execute_result"
    }
   ],
   "source": [
    "storeDetails[i]"
   ]
  },
  {
   "cell_type": "code",
   "execution_count": 12,
   "metadata": {},
   "outputs": [
    {
     "data": {
      "text/html": [
       "<div>\n",
       "<style scoped>\n",
       "    .dataframe tbody tr th:only-of-type {\n",
       "        vertical-align: middle;\n",
       "    }\n",
       "\n",
       "    .dataframe tbody tr th {\n",
       "        vertical-align: top;\n",
       "    }\n",
       "\n",
       "    .dataframe thead th {\n",
       "        text-align: right;\n",
       "    }\n",
       "</style>\n",
       "<table border=\"1\" class=\"dataframe\">\n",
       "  <thead>\n",
       "    <tr style=\"text-align: right;\">\n",
       "      <th></th>\n",
       "      <th>Company Name</th>\n",
       "      <th>Address</th>\n",
       "      <th>Phone</th>\n",
       "    </tr>\n",
       "  </thead>\n",
       "  <tbody>\n",
       "  </tbody>\n",
       "</table>\n",
       "</div>"
      ],
      "text/plain": [
       "Empty DataFrame\n",
       "Columns: [Company Name, Address, Phone]\n",
       "Index: []"
      ]
     },
     "execution_count": 12,
     "metadata": {},
     "output_type": "execute_result"
    }
   ],
   "source": [
    "df"
   ]
  },
  {
   "cell_type": "code",
   "execution_count": 68,
   "metadata": {},
   "outputs": [
    {
     "data": {
      "text/html": [
       "<div>\n",
       "<style scoped>\n",
       "    .dataframe tbody tr th:only-of-type {\n",
       "        vertical-align: middle;\n",
       "    }\n",
       "\n",
       "    .dataframe tbody tr th {\n",
       "        vertical-align: top;\n",
       "    }\n",
       "\n",
       "    .dataframe thead th {\n",
       "        text-align: right;\n",
       "    }\n",
       "</style>\n",
       "<table border=\"1\" class=\"dataframe\">\n",
       "  <thead>\n",
       "    <tr style=\"text-align: right;\">\n",
       "      <th></th>\n",
       "      <th>Address</th>\n",
       "      <th>Phone</th>\n",
       "    </tr>\n",
       "    <tr>\n",
       "      <th>Company Name</th>\n",
       "      <th></th>\n",
       "      <th></th>\n",
       "    </tr>\n",
       "  </thead>\n",
       "  <tbody>\n",
       "  </tbody>\n",
       "</table>\n",
       "</div>"
      ],
      "text/plain": [
       "Empty DataFrame\n",
       "Columns: [Address, Phone]\n",
       "Index: []"
      ]
     },
     "execution_count": 68,
     "metadata": {},
     "output_type": "execute_result"
    }
   ],
   "source": [
    "dietitian_mumbai = df\n",
    "dietitian_mumbai = dietitian_mumbai.set_index('Company Name')\n",
    "dietitian_mumbai"
   ]
  },
  {
   "cell_type": "code",
   "execution_count": null,
   "metadata": {},
   "outputs": [],
   "source": []
  },
  {
   "cell_type": "code",
   "execution_count": null,
   "metadata": {},
   "outputs": [],
   "source": []
  },
  {
   "cell_type": "code",
   "execution_count": null,
   "metadata": {},
   "outputs": [],
   "source": []
  },
  {
   "cell_type": "code",
   "execution_count": null,
   "metadata": {},
   "outputs": [],
   "source": [
    "Diet - Food- Restaurants(Pages [1-19]): https://www.justdial.com/Mumbai/Diet-Food-Restaurants/nct-11384653"
   ]
  },
  {
   "cell_type": "code",
   "execution_count": null,
   "metadata": {},
   "outputs": [],
   "source": []
  },
  {
   "cell_type": "code",
   "execution_count": null,
   "metadata": {},
   "outputs": [],
   "source": []
  },
  {
   "cell_type": "code",
   "execution_count": null,
   "metadata": {},
   "outputs": [],
   "source": []
  },
  {
   "cell_type": "code",
   "execution_count": 20,
   "metadata": {},
   "outputs": [],
   "source": [
    "from bs4 import BeautifulSoup\n",
    "import urllib\n",
    "import urllib.request\n",
    "import requests\n",
    "import csv"
   ]
  },
  {
   "cell_type": "code",
   "execution_count": 21,
   "metadata": {},
   "outputs": [],
   "source": [
    "def innerHTML(element):\n",
    "    return element.decode_contents(formatter=\"html\")\n",
    "\n",
    "def get_name(body):\n",
    "    return body.find('span', {'class':'jcn'}).a.string\n",
    "\n",
    "def which_digit(html):\n",
    "    mappingDict={'icon-ji':9,\n",
    "                'icon-dc':'+',\n",
    "                'icon-fe':'(',\n",
    "                'icon-hg':')',\n",
    "                'icon-ba':'-',\n",
    "                'icon-lk':8,\n",
    "                'icon-nm':7,\n",
    "                'icon-po':6,\n",
    "                'icon-rq':5,\n",
    "                'icon-ts':4,\n",
    "                'icon-vu':3,\n",
    "                'icon-wx':2,\n",
    "                'icon-yz':1,\n",
    "                'icon-acb':0,\n",
    "                }\n",
    "    return mappingDict.get(html,'')\n",
    "\n",
    "def get_phone_number(body):\n",
    "    i=0\n",
    "    phoneNo = \"No Number!\"\n",
    "    try:\n",
    "\n",
    "        for item in body.find('p',{'class':'contact-info'}):\n",
    "            i+=1\n",
    "            if(i==2):\n",
    "                phoneNo=''\n",
    "                try:\n",
    "                    for element in item.find_all(class_=True):\n",
    "                        classes = []\n",
    "                        classes.extend(element[\"class\"])\n",
    "                        phoneNo+=str((which_digit(classes[1])))\n",
    "                except:\n",
    "                    pass\n",
    "    except:\n",
    "        pass\n",
    "    body = body['data-href']\n",
    "    soup = BeautifulSoup(body, 'html.parser')\n",
    "    for a in soup.find_all('a', {\"id\":\"whatsapptriggeer\"} ):\n",
    "        # print (a)\n",
    "        phoneNo = str(a['href'][-10:])\n",
    "\n",
    "\n",
    "    return phoneNo\n",
    "\n",
    "\n",
    "def get_rating(body):\n",
    "    rating = 0.0\n",
    "    text = body.find('span', {'class':'star_m'})\n",
    "    if text is not None:\n",
    "        for item in text:\n",
    "            rating += float(item['class'][0][1:])/10\n",
    "\n",
    "    return rating\n",
    "\n",
    "def get_rating_count(body):\n",
    "    text = body.find('span', {'class':'rt_count'}).string\n",
    "\n",
    "    # Get only digits\n",
    "    rating_count =''.join(i for i in text if i.isdigit())\n",
    "    return rating_count\n",
    "\n",
    "def get_address(body):\n",
    "    return body.find('span', {'class':'mrehover'}).text.strip()\n",
    "\n",
    "def get_location(body):\n",
    "    text = body.find('a', {'class':'rsmap'})\n",
    "    if text == None:\n",
    "        return\n",
    "    text_list = text['onclick'].split(\",\")\n",
    "\n",
    "    latitutde = text_list[3].strip().replace(\"'\", \"\")\n",
    "    longitude = text_list[4].strip().replace(\"'\", \"\")\n",
    "\n",
    "    return latitutde + \", \" + longitude"
   ]
  },
  {
   "cell_type": "code",
   "execution_count": 24,
   "metadata": {},
   "outputs": [
    {
     "name": "stdout",
     "output_type": "stream",
     "text": [
      "https://www.justdial.com/Mumbai/Dietitians/nct-10161884/page-49\n",
      "Health Total By Anjali Muke..\n",
      "getting phone number\n",
      "#1  {'Name': 'Health Total By Anjali Muke..', 'Phone': '+(91)-22-67266883', 'Rating': 3.4, 'Rating Count': '64', 'Address': '234, Hall Mark, Vasant Oscar, L B S Road, Mulund West, Mumbai - 400080, Near Nirmal Lifestyle'}\n",
      "Fitness Creators\n",
      "getting phone number\n",
      "#2  {'Name': 'Fitness Creators', 'Phone': '+(91)-9819777125', 'Rating': 4.4, 'Rating Count': '62', 'Address': '1st Floor, Raghukul Building, Dombivli East, Thane - 421201, Behind Kasturi Plaza, Opposite Tata Power Line'}\n",
      "Rachanaas Nature Cure Cente..\n",
      "getting phone number\n",
      "#3  {'Name': 'Rachanaas Nature Cure Cente..', 'Phone': '+(91)-8898222479', 'Rating': 4.7, 'Rating Count': '61', 'Address': 'Shop No.164/165,2nd Floor,Raghuleela Mega Mall,Premises Co-op Soc Ltd, S.V Road, Kandivali West, Mumbai - 400067, Behind Poisar Bus Depot'}\n",
      "Crossfit Arjuna\n",
      "getting phone number\n",
      "#4  {'Name': 'Crossfit Arjuna', 'Phone': '07947182745', 'Rating': 4.5, 'Rating Count': '61', 'Address': 'Footprint Opposite Kalpavruksh Building,Mahavir Nagar, Link Road, Kandivali West, Mumbai - 400067, Behind Mahaveer Nagar Bus Stop,Near Bharat Petrol Pump'}\n",
      "Mickey Mehtas Sports & Fitn..\n",
      "getting phone number\n",
      "#5  {'Name': 'Mickey Mehtas Sports & Fitn..', 'Phone': '+(91)-22-28987600', 'Rating': 4.5, 'Rating Count': '61', 'Address': 'G 55/56, Satrap Park TPS, Shimpoli Road, Borivali West, Mumbai - 400092, Near Reliance Fresh Mall, Kastur Park, Satra Park'}\n",
      "Bhushans Muscle & Fitness G..\n",
      "getting phone number\n",
      "#6  {'Name': 'Bhushans Muscle & Fitness G..', 'Phone': '+(91)-7678097215', 'Rating': 4.5, 'Rating Count': '61', 'Address': 'Shop No.2, Mangalmurti Hall, B.P. Road, Bhayandar East, Thane - 401105, Near Goddev Naka, Jamar Sweets,  Opp. Axis Bank ATM'}\n",
      "Good Luck Nutrition Center\n",
      "getting phone number\n",
      "#7  {'Name': 'Good Luck Nutrition Center', 'Phone': '+(91)-7768868555', 'Rating': 4.2, 'Rating Count': '61', 'Address': 'Pascol Chawl, Koliwada Plot, Jogeshwari East, Mumbai - 400060, Near Aslam Garage and Infinity School'}\n",
      "Tridentski\n",
      "getting phone number\n",
      "#8  {'Name': 'Tridentski', 'Phone': '+(91)-9890672864', 'Rating': 4.7, 'Rating Count': '60', 'Address': '301, Shubham Flora, R C Marg, Chembur Naka-Chembur East, Mumbai - 400071, Near V N Purav Mono Rail Station'}\n",
      "Beyond Fitness\n",
      "getting phone number\n",
      "#9  {'Name': 'Beyond Fitness', 'Phone': '+(91)-022-65229292', 'Rating': 4.3, 'Rating Count': '60', 'Address': '8/36, 2nd Floor, Grants Building, Arthur Bunder Road, Colaba, Mumbai - 400005, Above Food Plaza Restaurant'}\n",
      "Healthspring Community Medi..\n",
      "getting phone number\n",
      "#10  {'Name': 'Healthspring Community Medi..', 'Phone': '+(91)-022-22174545', 'Rating': 4.1, 'Rating Count': '59', 'Address': 'Shop No 1, Ground Floor, Saideep 17, Cuffe Parade-colaba, Mumbai - 400005'}\n",
      "https://www.justdial.com/Mumbai/Dietitians/nct-10161884/page-50\n",
      "Health Total By Anjali Muke..\n",
      "getting phone number\n",
      "#11  {'Name': 'Health Total By Anjali Muke..', 'Phone': '+(91)-022-67266883', 'Rating': 3.9, 'Rating Count': '59', 'Address': 'Office No 21, 2nd Floor, Crystal Plaza, Hiranandani Building, Kharghar, Navi Mumbai - 410210, Sector No 7'}\n",
      "Elite Fitness\n",
      "getting phone number\n",
      "#12  {'Name': 'Elite Fitness', 'Phone': '+(91)-22-24960999', 'Rating': 3.8, 'Rating Count': '59', 'Address': 'First Floor, 107 NavNeelam Bldg,, R.G. Thadani Marg, Worli, Mumbai - 400018, Above Sadanand Hotel, CCD and Subway'}\n",
      "Captains Fitness Junction\n",
      "getting phone number\n",
      "#13  {'Name': 'Captains Fitness Junction', 'Phone': '+(91)-22-65211160', 'Rating': 3.7, 'Rating Count': '59', 'Address': 'Arihant Apartments, Dada Save Road, Kandivali East, Mumbai - 400101, Behind Esis Hospital & Bus Depot, Beside Sahakar Gram, Ashok Nagar'}\n",
      "Diab Care Centre\n",
      "getting phone number\n",
      "#14  {'Name': 'Diab Care Centre', 'Phone': '+(91)-22-25931122', 'Rating': 4.3, 'Rating Count': '58', 'Address': '1st Floor, Bps Plaza, Devidayal Road, Mulund West, Mumbai - 400080, Next Bus Depot'}\n",
      "Bow\n",
      "getting phone number\n",
      "#15  {'Name': 'Bow', 'Phone': '07947176311', 'Rating': 4.8, 'Rating Count': '57', 'Address': 'C/O Bhagwan Bhoir English High School, KHADAKPADA-KALYAN WEST, Thane - 421301, Near Khadak Pada Circle'}\n",
      "Biorhythm Gym\n",
      "getting phone number\n",
      "#16  {'Name': 'Biorhythm Gym', 'Phone': '+(91)-022-66244594', 'Rating': 3.5, 'Rating Count': '57', 'Address': '101 & 201, H Wing, Thakur Sankalp, 90 Feet Road,  Western Express Highway, Thakur Complex-kandivali East, Mumbai - 400101, Opposite SAI Hospital, Near HDFC Bank'}\n",
      "Goal Fitness\n",
      "getting phone number\n",
      "#17  {'Name': 'Goal Fitness', 'Phone': '+(91)-7721944888', 'Rating': 4.0, 'Rating Count': '56', 'Address': 'Ground Floor, Lawrence Trade Centre, Manikpur Road, Vasai West, Palghar - 401202, Near Catholic Bank'}\n",
      "Tatva Health\n",
      "getting phone number\n",
      "#18  {'Name': 'Tatva Health', 'Phone': '+(91)-9372423943', 'Rating': 4.7, 'Rating Count': '55', 'Address': 'Office 305, Block B, Everest Chamber, Andheri East, Andheri East, Mumbai - 400059, Marol'}\n",
      "B-fit Fitness Centre\n",
      "getting phone number\n",
      "#19  {'Name': 'B-fit Fitness Centre', 'Phone': '+(91)-9773581725', 'Rating': 4.2, 'Rating Count': '54', 'Address': 'Krishna Kunj, First Floor, Office Number 5, Opposite Healing Touch Eye Hospital, Kamothe, Navi Mumbai - 410206, Sector 15'}\n",
      "Raymonds Gym\n",
      "getting phone number\n",
      "#20  {'Name': 'Raymonds Gym', 'Phone': '+(91)-9870462143', 'Rating': 4.2, 'Rating Count': '52', 'Address': 'House No 11, Kalina Village, Santacruz East, Mumbai - 400029, Behind Gita Vihar Hotel'}\n",
      "https://www.justdial.com/Mumbai/Dietitians/nct-10161884/page-51\n",
      "https://www.justdial.com/Mumbai/Dietitians/nct-10161884/page-52\n"
     ]
    }
   ],
   "source": [
    "page_number = 1\n",
    "service_count = 1\n",
    "\n",
    "\n",
    "fields = ['Name', 'Phone', 'Rating', 'Rating Count', 'Address', 'Location']\n",
    "out_file = open('dietitians.csv','w')\n",
    "csvwriter = csv.DictWriter(out_file, delimiter=',', fieldnames=fields)\n",
    "\n",
    "# Write fields first\n",
    "#csvwriter.writerow(dict((fn,fn) for fn in fields))\n",
    "while True:\n",
    "    # Check if reached end of result\n",
    "    if page_number > 50:\n",
    "        break\n",
    "\n",
    "    url=\"https://www.justdial.com/Mumbai/Dietitians/nct-10161884/page-%s\" % (page_number)\n",
    "    print(url)\n",
    "    req = urllib.request.Request(url, headers={'User-Agent' : \"Mozilla/5.0 (Windows NT 6.1; Win64; x64)\"}) \n",
    "    page = urllib.request.urlopen( req )\n",
    "    # page=urllib2.urlopen(url)\n",
    "\n",
    "    soup = BeautifulSoup(page.read(), \"html.parser\")\n",
    "    services = soup.find_all('li', {'class': 'cntanr'})\n",
    "\n",
    "    # Iterate through the 10 results in the page\n",
    "    for service_html in services:\n",
    "\n",
    "        # Parse HTML to fetch data     \n",
    "        dict_service = {}\n",
    "        name = get_name(service_html)\n",
    "        print(name);\n",
    "        phone = get_phone_number(service_html)\n",
    "        rating = get_rating(service_html)\n",
    "        count = get_rating_count(service_html)\n",
    "        address = get_address(service_html)\n",
    "        location = get_location(service_html)\n",
    "        if name != None:\n",
    "            dict_service['Name'] = name\n",
    "        if phone != None:\n",
    "            print('getting phone number')\n",
    "            dict_service['Phone'] = phone\n",
    "        if rating != None:\n",
    "            dict_service['Rating'] = rating\n",
    "        if count != None:\n",
    "            dict_service['Rating Count'] = count\n",
    "        if address != None:\n",
    "            dict_service['Address'] = address\n",
    "        if location != None:\n",
    "            dict_service['Address'] = location\n",
    "\n",
    "        # Write row to CSV\n",
    "        csvwriter.writerow(dict_service)\n",
    "\n",
    "        print(\"#\" + str(service_count) + \" \" , dict_service)\n",
    "        service_count += 1\n",
    "\n",
    "    page_number += 1\n",
    "\n",
    "out_file.close()"
   ]
  },
  {
   "cell_type": "code",
   "execution_count": null,
   "metadata": {},
   "outputs": [],
   "source": []
  }
 ],
 "metadata": {
  "kernelspec": {
   "display_name": "Python 3",
   "language": "python",
   "name": "python3"
  },
  "language_info": {
   "codemirror_mode": {
    "name": "ipython",
    "version": 3
   },
   "file_extension": ".py",
   "mimetype": "text/x-python",
   "name": "python",
   "nbconvert_exporter": "python",
   "pygments_lexer": "ipython3",
   "version": "3.8.5"
  }
 },
 "nbformat": 4,
 "nbformat_minor": 4
}
